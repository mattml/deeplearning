{
 "cells": [
  {
   "cell_type": "code",
   "execution_count": null,
   "metadata": {},
   "outputs": [],
   "source": []
  },
  {
   "cell_type": "markdown",
   "metadata": {},
   "source": [
    "# deeplearning\n",
    "This repository  is a deep learning repository. \n",
    "\n",
    "## workflow\n",
    "1. Update config.yaml\n",
    "2. Update secrets.yaml [Optional]\n",
    "3. Update params.yaml\n",
    "4. Update the entity\n",
    "5. Update the configuration manager in src config\n",
    "6. Update the components\n",
    "7. Update the pipeline\n",
    "8. Update the main.py\n",
    "9. Update the dvc.yaml"
   ]
  },
  {
   "cell_type": "markdown",
   "metadata": {},
   "source": []
  }
 ],
 "metadata": {
  "language_info": {
   "name": "python"
  }
 },
 "nbformat": 4,
 "nbformat_minor": 2
}
