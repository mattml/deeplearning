{
 "cells": [
  {
   "cell_type": "code",
   "execution_count": 13,
   "metadata": {},
   "outputs": [],
   "source": [
    "import os"
   ]
  },
  {
   "cell_type": "code",
   "execution_count": 22,
   "metadata": {},
   "outputs": [
    {
     "data": {
      "text/plain": [
       "'/'"
      ]
     },
     "execution_count": 22,
     "metadata": {},
     "output_type": "execute_result"
    }
   ],
   "source": [
    "%pwd"
   ]
  },
  {
   "cell_type": "code",
   "execution_count": 23,
   "metadata": {},
   "outputs": [
    {
     "data": {
      "text/plain": [
       "'/Users/matt/Documents/deeplearning'"
      ]
     },
     "execution_count": 23,
     "metadata": {},
     "output_type": "execute_result"
    }
   ],
   "source": [
    "os.chdir(\"/Users/matt/Documents/deeplearning\")\n",
    "%pwd"
   ]
  },
  {
   "cell_type": "code",
   "execution_count": 24,
   "metadata": {},
   "outputs": [],
   "source": [
    "from dataclasses import dataclass\n",
    "from pathlib import Path  \n",
    " \n",
    "@dataclass(frozen=True) #表示这是不可变对象，初始化后不能重新赋值\n",
    "class DataIngestionConfig:\n",
    "    root_dir: Path\n",
    "    source_URL: str\n",
    "    local_data_file:Path\n",
    "    unzip_dir:Path    "
   ]
  },
  {
   "cell_type": "code",
   "execution_count": 25,
   "metadata": {},
   "outputs": [],
   "source": [
    "from cnnClassifier.constants import *\n",
    "from cnnClassifier.utils.common import read_yaml,create_directories"
   ]
  },
  {
   "cell_type": "code",
   "execution_count": 37,
   "metadata": {},
   "outputs": [],
   "source": [
    "class ConfigurationManager:\n",
    "  def __init__(self,config_filepath=CONFIG_FILE_PATH,params_filepath=PARAMS_FILE_PATH):\n",
    "    self.config = read_yaml(config_filepath)\n",
    "    self.params = read_yaml(params_filepath)\n",
    "    create_directories([self.config.artifacts_root])\n",
    "    \n",
    "  def get_data_ingestion_config(self)->DataIngestionConfig:\n",
    "    config=self.config.data_ingestion\n",
    "    \n",
    "    create_directories([config.root_dir])\n",
    "    \n",
    "    data_ingestion_config=DataIngestionConfig(\n",
    "      root_dir=config.root_dir,\n",
    "      source_URL=config.source_URL,\n",
    "      local_data_file=config.local_data_file,\n",
    "      unzip_dir=config.unzip_dir\n",
    "    )\n",
    "    return data_ingestion_config"
   ]
  },
  {
   "cell_type": "code",
   "execution_count": 39,
   "metadata": {},
   "outputs": [],
   "source": [
    "import os\n",
    "import urllib.request as request\n",
    "import zipfile\n",
    "from cnnClassifier import logger\n",
    "from cnnClassifier.utils.common import get_size"
   ]
  },
  {
   "cell_type": "code",
   "execution_count": 44,
   "metadata": {},
   "outputs": [],
   "source": [
    "class DataIngestion:\n",
    "  def __init__(self,config:DataIngestionConfig):\n",
    "    self.config = config\n",
    "    \n",
    "  def download_file(self):\n",
    "    try:\n",
    "      if not os.path.exists(self.config.local_data_file):\n",
    "        filename,headers=request.urlretrieve(\n",
    "          url=self.config.source_URL,\n",
    "          filename=self.config.local_data_file\n",
    "          )\n",
    "        logger.info(f\"{filename} downloaded! with following information:\\n {headers}\")\n",
    "      else:\n",
    "        logger.info(f\"File already exists of size {get_size(Path(self.config.local_data_file))}\")\n",
    "    except Exception as e:\n",
    "      logger.error(f\"Error downloading {self.config.local_data_file}: {e}\")\n",
    "      # raise e\n",
    "      \n",
    "  def extract_zip_file(self):\n",
    "    try:\n",
    "      unzip_path = self.config.unzip_dir\n",
    "      os.makedirs(unzip_path,exist_ok=True)\n",
    "      with zipfile.ZipFile(self.config.local_data_file,'r') as zip_ref:\n",
    "        zip_ref.extractall(path=unzip_path)\n",
    "      logger.info(f\"{self.config.local_data_file} extracted to {unzip_path}\")\n",
    "    except Exception as e:\n",
    "      logger.error(f\"Error extracting file {self.config.local_data_file} to {unzip_path}: {e}\")\n",
    "      # raise e"
   ]
  },
  {
   "cell_type": "code",
   "execution_count": 45,
   "metadata": {},
   "outputs": [
    {
     "name": "stdout",
     "output_type": "stream",
     "text": [
      "[2023-10-15 14:52:52,889: INFO: common: yaml file: config/config.yaml loaded successfully]\n",
      "[2023-10-15 14:52:52,900: INFO: common: yaml file: params.yaml loaded successfully]\n",
      "[2023-10-15 14:52:52,916: INFO: common: created directory at: artifacts]\n"
     ]
    },
    {
     "name": "stdout",
     "output_type": "stream",
     "text": [
      "[2023-10-15 14:52:52,922: INFO: common: created directory at: artifacts/data_ingestion]\n",
      "[2023-10-15 14:52:52,927: INFO: 3488843591: File already exists of size ~ 11345 KB]\n",
      "[2023-10-15 14:52:54,800: INFO: 3488843591: artifacts/data_ingestion/data.zip extracted to artifacts/data_ingestion]\n"
     ]
    }
   ],
   "source": [
    "try:\n",
    "  config_manager =ConfigurationManager()\n",
    "  data_ingestion_config=config_manager.get_data_ingestion_config()\n",
    "  data_ingestion=DataIngestion(data_ingestion_config)\n",
    "  data_ingestion.download_file()\n",
    "  data_ingestion.extract_zip_file()\n",
    "except Exception as e:\n",
    "  print(f\"error: {e}\")\n"
   ]
  },
  {
   "cell_type": "code",
   "execution_count": null,
   "metadata": {},
   "outputs": [],
   "source": []
  },
  {
   "cell_type": "code",
   "execution_count": null,
   "metadata": {},
   "outputs": [],
   "source": []
  },
  {
   "cell_type": "code",
   "execution_count": null,
   "metadata": {},
   "outputs": [],
   "source": []
  },
  {
   "cell_type": "markdown",
   "metadata": {},
   "source": [
    "# deeplearning\n",
    "This repository  is a deep learning repository. \n",
    "\n",
    "## workflow\n",
    "1. Update config.yaml\n",
    "2. Update secrets.yaml [Optional]\n",
    "3. Update params.yaml\n",
    "4. Update the entity\n",
    "5. Update the configuration manager in src config\n",
    "6. Update the components\n",
    "7. Update the pipeline\n",
    "8. Update the main.py\n",
    "9. Update the dvc.yaml"
   ]
  },
  {
   "cell_type": "markdown",
   "metadata": {},
   "source": []
  }
 ],
 "metadata": {
  "kernelspec": {
   "display_name": "chicken",
   "language": "python",
   "name": "python3"
  },
  "language_info": {
   "codemirror_mode": {
    "name": "ipython",
    "version": 3
   },
   "file_extension": ".py",
   "mimetype": "text/x-python",
   "name": "python",
   "nbconvert_exporter": "python",
   "pygments_lexer": "ipython3",
   "version": "3.8.18"
  }
 },
 "nbformat": 4,
 "nbformat_minor": 2
}
