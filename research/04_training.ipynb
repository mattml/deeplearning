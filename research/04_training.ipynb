{
 "cells": [
  {
   "cell_type": "code",
   "execution_count": 5,
   "metadata": {},
   "outputs": [
    {
     "data": {
      "text/plain": [
       "'/Users/matt/Documents/deeplearning'"
      ]
     },
     "execution_count": 5,
     "metadata": {},
     "output_type": "execute_result"
    }
   ],
   "source": [
    "import os\n",
    "%pwd"
   ]
  },
  {
   "cell_type": "code",
   "execution_count": 6,
   "metadata": {},
   "outputs": [
    {
     "data": {
      "text/plain": [
       "'/Users/matt/Documents/deeplearning'"
      ]
     },
     "execution_count": 6,
     "metadata": {},
     "output_type": "execute_result"
    }
   ],
   "source": [
    "os.chdir('/Users/matt/Documents/deeplearning/')\n",
    "%pwd"
   ]
  },
  {
   "cell_type": "code",
   "execution_count": 12,
   "metadata": {},
   "outputs": [],
   "source": [
    "\n",
    "from dataclasses import dataclass\n",
    "from pathlib import Path\n",
    "\n",
    "@dataclass(frozen=True)\n",
    "class TrainingConfig:\n",
    "  root_dir: Path\n",
    "  trained_model_path: Path\n",
    "  updated_base_model_path: Path\n",
    "  training_data: Path\n",
    "  validation_data: Path\n",
    "  params_epochs:int\n",
    "  params_batch_size:int\n",
    "  params_is_augmentation:bool\n",
    "  params_image_size:list\n",
    "  \n",
    "@dataclass(frozen=True)\n",
    "class PrepareCallbacksConfig:\n",
    "  root_dir: str\n",
    "  tensorboard_root_log_dir: str\n",
    "  checkpoint_model_filepath: str  "
   ]
  },
  {
   "cell_type": "code",
   "execution_count": 13,
   "metadata": {},
   "outputs": [],
   "source": [
    "from cnnClassifier.constants import *\n",
    "from cnnClassifier.utils.common import read_yaml,create_directories\n",
    "import tensorflow as tf"
   ]
  },
  {
   "cell_type": "code",
   "execution_count": 14,
   "metadata": {},
   "outputs": [],
   "source": [
    "\n",
    "class ConfigurationManager:\n",
    "  def __init__(self,config_filepath=CONFIG_FILE_PATH,params_filepath=PARAMS_FILE_PATH):\n",
    "    self.config = read_yaml(config_filepath)\n",
    "    self.params = read_yaml(params_filepath)\n",
    "    create_directories([self.config.artifacts_root])\n",
    "    \n",
    "  def get_prepare_callbacks_config(self)->PrepareCallbacksConfig:\n",
    "    \n",
    "    config=self.config.prepare_callbacks\n",
    "    checkpoint_model_dir=os.path.dirname(config.checkpoint_model_filepath)\n",
    "    \n",
    "    create_directories([\n",
    "      checkpoint_model_dir,\n",
    "      config.tensorboard_root_log_dir\n",
    "    ])\n",
    "    \n",
    "    preare_callbacks_config=PrepareCallbacksConfig(\n",
    "      root_dir=config.root_dir,\n",
    "      checkpoint_model_filepath=config.checkpoint_model_filepath,\n",
    "      tensorboard_root_log_dir=config.tensorboard_root_log_dir\n",
    "    )\n",
    "    \n",
    "    return preare_callbacks_config  \n",
    "    \n",
    "    \n",
    "  def get_training_config(self) ->TrainingConfig:\n",
    "    traing=self.config.training\n",
    "    prepare_base_model=self.config.prepare_base_model\n",
    "    params=self.params\n",
    "    training_data=os.path.join(self.config.data_ingestion.unzip_dir,\"Chicken-fecal-images\",\"training\")\n",
    "    validation_data=os.path.join(self.config.data_ingestion.unzip_dir,\"Chicken-fecal-images\",\"validation\")\n",
    "    \n",
    "    create_directories([traing.root_dir])\n",
    "    \n",
    "    training_config=TrainingConfig(\n",
    "      root_dir=Path(traing.root_dir),\n",
    "      trained_model_path=Path(traing.trained_model_path),\n",
    "      updated_base_model_path=Path(prepare_base_model.updated_base_model_path),\n",
    "      training_data=Path(training_data),\n",
    "      validation_data=Path(validation_data),\n",
    "      params_epochs=params.EPOCHS,\n",
    "      params_batch_size=params.BATCH_SIZE,\n",
    "      params_is_augmentation=params.AUGMENTATION,\n",
    "      params_image_size=params.IMAGE_SIZE\n",
    "      )    \n",
    "    \n",
    "    return training_config  \n",
    "      "
   ]
  },
  {
   "cell_type": "code",
   "execution_count": 15,
   "metadata": {},
   "outputs": [],
   "source": [
    "import time"
   ]
  },
  {
   "cell_type": "code",
   "execution_count": 16,
   "metadata": {},
   "outputs": [],
   "source": [
    "class PrepareCallbacks:\n",
    "  def __init__(self,config:PrepareCallbacksConfig):\n",
    "    self.config = config\n",
    "    \n",
    "  @property\n",
    "  def _create_tb_callbacks(self):\n",
    "    timestamp = time.strftime(\"%Y-%m-%d-%H-%M-%S\")\n",
    "    tb_running_log_dir =os.path.join(\n",
    "      self.config.tensorboard_root_log_dir,\n",
    "      f\"tb_logs_at_{timestamp}\"      \n",
    "    )\n",
    "    return tf.keras.callbacks.TensorBoard(log_dir=tb_running_log_dir)\n",
    "  \n",
    "  @property\n",
    "  def _create_checkpoint_callbacks(self):\n",
    "    checkpoint_callbacks=tf.keras.callbacks.ModelCheckpoint(\n",
    "      filepath=self.config.checkpoint_model_filepath,\n",
    "      save_best_only=True)\n",
    "    return checkpoint_callbacks\n",
    "    \n",
    "  def get_tb_ckpt_callbacks(self):\n",
    "    return [\n",
    "      self._create_tb_callbacks, \n",
    "      self._create_checkpoint_callbacks\n",
    "      ]"
   ]
  },
  {
   "cell_type": "code",
   "execution_count": 17,
   "metadata": {},
   "outputs": [],
   "source": [
    "import os\n",
    "import zipfile\n",
    "import tensorflow as tf\n",
    "import urllib.request as request\n",
    "import time\n"
   ]
  },
  {
   "cell_type": "code",
   "execution_count": 18,
   "metadata": {},
   "outputs": [],
   "source": [
    "class Training:\n",
    "  def __init__(self,config:TrainingConfig):\n",
    "    self.config = config\n",
    "    \n",
    "  def get_base_model(self):\n",
    "    self.model=tf.keras.models.load_model(\n",
    "      self.config.updated_base_model_path\n",
    "    )\n",
    "    \n",
    "  \n",
    "    \n",
    "  def train_valid_generator(self):   \n",
    "# rescale: 重缩放因子。默认为 None。如果是 None 或 0，不进行缩放，否则将数据乘以所提供的值（在应用任何其他转换之前）。\n",
    "# rescale的作用是对图片的每个像素值均乘上这个放缩因子，这个操作在所有其它变换操作之前执行，在一些模型当中，\n",
    "# 直接输入原图的像素值可能会落入激活函数的“死亡区”，因此设置放缩因子为1/255，把像素值放缩到0和1之间有利于模型的收敛，避免神经元“死亡”。 \n",
    "\n",
    "    datagenerator_kwargs = dict(\n",
    "        rescale = 1./255,\n",
    "        # validation_split=0.20  #  validation_split: 浮点数。Float. 保留用于验证的图像的比例（严格在0和1之间）。  \n",
    "    )\n",
    "\n",
    "    dataflow_kwargs = dict(\n",
    "        target_size=self.config.params_image_size[:-1],\n",
    "        batch_size=self.config.params_batch_size,\n",
    "        interpolation=\"bilinear\"\n",
    "    )\n",
    "\n",
    "    valid_datagenerator = tf.keras.preprocessing.image.ImageDataGenerator(\n",
    "        **datagenerator_kwargs\n",
    "    )\n",
    "\n",
    "    self.valid_generator = valid_datagenerator.flow_from_directory(\n",
    "        directory=self.config.training_data,\n",
    "        shuffle=False,\n",
    "        **dataflow_kwargs\n",
    "    )\n",
    "    \n",
    "    train_datagenerator = tf.keras.preprocessing.image.ImageDataGenerator(\n",
    "        rotation_range=40,\n",
    "        horizontal_flip=True,\n",
    "        width_shift_range=0.2,\n",
    "        height_shift_range=0.2,\n",
    "        shear_range=0.2,\n",
    "        zoom_range=0.2,\n",
    "        **datagenerator_kwargs\n",
    "    )   \n",
    "\n",
    "    self.train_generator = train_datagenerator.flow_from_directory(\n",
    "        directory=self.config.validation_data,\n",
    "        shuffle=True,\n",
    "        **dataflow_kwargs\n",
    "    )  \n",
    "    \n",
    "  @staticmethod\n",
    "  def save_model(path:Path, model:tf.keras.Model):\n",
    "    model.save(path)\n",
    "    \n",
    "  def train(self,callback_list:list):\n",
    "    self.steps_per_epoch = self.train_generator.samples // self.train_generator.batch_size\n",
    "    self.validition_steps = self.valid_generator.samples // self.valid_generator.batch_size\n",
    "    \n",
    "    self.model.fit(\n",
    "        self.train_generator,\n",
    "        epochs = self.config.params_epochs,\n",
    "        steps_per_epoch=self.steps_per_epoch,\n",
    "        validation_data=self.valid_generator,\n",
    "        validation_steps=self.validition_steps,\n",
    "        callbacks=callback_list\n",
    "        )\n",
    "    \n",
    "    self.save_model(self.config.trained_model_path,self.model)\n",
    "  "
   ]
  },
  {
   "cell_type": "code",
   "execution_count": 22,
   "metadata": {},
   "outputs": [
    {
     "data": {
      "text/plain": [
       "'/Users/matt/Documents/deeplearning'"
      ]
     },
     "execution_count": 22,
     "metadata": {},
     "output_type": "execute_result"
    }
   ],
   "source": [
    "%pwd"
   ]
  },
  {
   "cell_type": "code",
   "execution_count": 23,
   "metadata": {},
   "outputs": [
    {
     "name": "stdout",
     "output_type": "stream",
     "text": [
      "[2023-10-17 14:48:49,199: INFO: common: yaml file: config/config.yaml loaded successfully]\n"
     ]
    },
    {
     "name": "stdout",
     "output_type": "stream",
     "text": [
      "[2023-10-17 14:48:49,221: INFO: common: yaml file: params.yaml loaded successfully]\n",
      "[2023-10-17 14:48:49,227: INFO: common: created directory at: artifacts]\n",
      "[2023-10-17 14:48:49,239: INFO: common: created directory at: artifacts/prepare_callbacks/checkpoint_dir]\n",
      "[2023-10-17 14:48:49,247: INFO: common: created directory at: artifacts/prepare_callbacks/tensorboard_log_dir]\n",
      "[2023-10-17 14:48:49,287: INFO: common: created directory at: artifacts/training]\n",
      "Found 292 images belonging to 2 classes.\n",
      "Found 98 images belonging to 2 classes.\n",
      "6/6 [==============================] - ETA: 0s - loss: 13.4716 - accuracy: 0.4634"
     ]
    },
    {
     "name": "stderr",
     "output_type": "stream",
     "text": [
      "/Users/matt/opt/anaconda3/envs/chicken/lib/python3.8/site-packages/keras/src/engine/training.py:3000: UserWarning: You are saving your model as an HDF5 file via `model.save()`. This file format is considered legacy. We recommend using instead the native Keras format, e.g. `model.save('my_model.keras')`.\n",
      "  saving_api.save_model(\n"
     ]
    },
    {
     "name": "stdout",
     "output_type": "stream",
     "text": [
      "6/6 [==============================] - 126s 24s/step - loss: 13.4716 - accuracy: 0.4634 - val_loss: 14.2839 - val_accuracy: 0.4931\n"
     ]
    }
   ],
   "source": [
    "try:\n",
    "  config_manager=ConfigurationManager()\n",
    "  \n",
    "  prepare_callbacks_config = config_manager.get_prepare_callbacks_config()\n",
    "  prepare_callbacks = PrepareCallbacks(prepare_callbacks_config)\n",
    "  callback_list=prepare_callbacks.get_tb_ckpt_callbacks() \n",
    "  \n",
    "  training_config =config_manager.get_training_config()\n",
    "  training=Training(training_config)\n",
    "  training.get_base_model()\n",
    "  training.train_valid_generator()\n",
    "  training.train(\n",
    "    callback_list=callback_list\n",
    "    )\n",
    "   \n",
    "  \n",
    "  \n",
    "except Exception as e:\n",
    "  raise e"
   ]
  },
  {
   "cell_type": "code",
   "execution_count": null,
   "metadata": {},
   "outputs": [],
   "source": []
  }
 ],
 "metadata": {
  "kernelspec": {
   "display_name": "chicken",
   "language": "python",
   "name": "python3"
  },
  "language_info": {
   "codemirror_mode": {
    "name": "ipython",
    "version": 3
   },
   "file_extension": ".py",
   "mimetype": "text/x-python",
   "name": "python",
   "nbconvert_exporter": "python",
   "pygments_lexer": "ipython3",
   "version": "3.8.18"
  }
 },
 "nbformat": 4,
 "nbformat_minor": 2
}
