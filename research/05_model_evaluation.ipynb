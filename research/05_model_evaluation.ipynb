{
 "cells": [
  {
   "cell_type": "code",
   "execution_count": 1,
   "metadata": {},
   "outputs": [
    {
     "data": {
      "text/plain": [
       "'/Users/matt/Documents/deeplearning/research'"
      ]
     },
     "execution_count": 1,
     "metadata": {},
     "output_type": "execute_result"
    }
   ],
   "source": [
    "%pwd"
   ]
  },
  {
   "cell_type": "code",
   "execution_count": 2,
   "metadata": {},
   "outputs": [
    {
     "data": {
      "text/plain": [
       "'/Users/matt/Documents/deeplearning'"
      ]
     },
     "execution_count": 2,
     "metadata": {},
     "output_type": "execute_result"
    }
   ],
   "source": [
    "import os\n",
    "os.chdir('/Users/matt/Documents/deeplearning')\n",
    "%pwd\n"
   ]
  },
  {
   "cell_type": "code",
   "execution_count": 3,
   "metadata": {},
   "outputs": [
    {
     "name": "stderr",
     "output_type": "stream",
     "text": [
      "2023-10-17 16:27:04.792438: I tensorflow/core/platform/cpu_feature_guard.cc:182] This TensorFlow binary is optimized to use available CPU instructions in performance-critical operations.\n",
      "To enable the following instructions: AVX2 FMA, in other operations, rebuild TensorFlow with the appropriate compiler flags.\n"
     ]
    }
   ],
   "source": [
    "import tensorflow as tf\n"
   ]
  },
  {
   "cell_type": "code",
   "execution_count": 33,
   "metadata": {},
   "outputs": [],
   "source": [
    "model=tf.keras.models.load_model(\"artifacts/training/model.h5\")\n"
   ]
  },
  {
   "cell_type": "code",
   "execution_count": 40,
   "metadata": {},
   "outputs": [],
   "source": [
    "from dataclasses import dataclass\n",
    "from pathlib import Path\n",
    "\n",
    "@dataclass(frozen=True)\n",
    "class EvaluationConfig:\n",
    "  path_of_model: Path\n",
    "  validation_data: Path\n",
    "  all_params: dict\n",
    "  params_batch_size:int\n",
    "  params_image_size:list"
   ]
  },
  {
   "cell_type": "code",
   "execution_count": 42,
   "metadata": {},
   "outputs": [],
   "source": [
    "from cnnClassifier.constants import *\n",
    "from cnnClassifier.utils.common import read_yaml,create_directories,save_json"
   ]
  },
  {
   "cell_type": "code",
   "execution_count": 44,
   "metadata": {},
   "outputs": [],
   "source": [
    "class ConfigurationManager:\n",
    "  def __init__(self,config_filepath=CONFIG_FILE_PATH,params_filepath=PARAMS_FILE_PATH):\n",
    "    self.config = read_yaml(config_filepath)\n",
    "    self.params = read_yaml(params_filepath)\n",
    "    create_directories([self.config.artifacts_root])\n",
    "    \n",
    "  def get_evaluation_config(self) ->EvaluationConfig:\n",
    "    eva_config=EvaluationConfig(\n",
    "    path_of_model=Path(\"artifacts/training/model.h5\"),\n",
    "    validation_data=Path(\"artifacts/data_ingestion/Chicken-fecal-images/validation/\"),\n",
    "    all_params=self.params,\n",
    "    params_batch_size=self.params.BATCH_SIZE,\n",
    "    params_image_size=self.params.IMAGE_SIZE\n",
    "    )\n",
    "    return eva_config\n",
    "  "
   ]
  },
  {
   "cell_type": "code",
   "execution_count": 48,
   "metadata": {},
   "outputs": [],
   "source": [
    "class Evaluation:\n",
    "  def __init__(self,config=EvaluationConfig):\n",
    "    self.config = config\n",
    "    \n",
    "  def _valid_generator(self):\n",
    "    \n",
    "    datagenerator_kwargs = dict(\n",
    "        rescale = 1./255,\n",
    "        # validation_split=0.20  #  validation_split: 浮点数。Float. 保留用于验证的图像的比例（严格在0和1之间）。  \n",
    "    )\n",
    "\n",
    "    dataflow_kwargs = dict(\n",
    "        target_size=self.config.params_image_size[:-1],\n",
    "        batch_size=self.config.params_batch_size,\n",
    "        interpolation=\"bilinear\"\n",
    "    )\n",
    "    \n",
    "    valid_datagenerator = tf.keras.preprocessing.image.ImageDataGenerator(\n",
    "        **datagenerator_kwargs\n",
    "    )\n",
    "\n",
    "    self.valid_generator = valid_datagenerator.flow_from_directory(\n",
    "        directory=self.config.validation_data,\n",
    "        shuffle=False,\n",
    "        **dataflow_kwargs\n",
    "    )\n",
    "    \n",
    "  @staticmethod\n",
    "  def load_model(path:Path)->tf.keras.Model:\n",
    "    return tf.keras.models.load_model(path)\n",
    "  \n",
    "  def evaluation(self):\n",
    "    self.model=self.load_model(self.config.path_of_model)\n",
    "    self._valid_generator()\n",
    "    self.score=self.model.evaluate(self.valid_generator)\n",
    "    \n",
    "  def save_model_evaluation_score(self):\n",
    "    score={\"loss\":self.score[0],\"accuracy\":self.score[1]}\n",
    "    save_json(path=Path(\"scores.json\"),data=score)"
   ]
  },
  {
   "cell_type": "code",
   "execution_count": 49,
   "metadata": {},
   "outputs": [
    {
     "name": "stdout",
     "output_type": "stream",
     "text": [
      "[2023-10-17 17:34:15,869: INFO: common: yaml file: config/config.yaml loaded successfully]\n",
      "[2023-10-17 17:34:15,902: INFO: common: yaml file: params.yaml loaded successfully]\n",
      "[2023-10-17 17:34:15,915: INFO: common: created directory at: artifacts]\n",
      "Found 98 images belonging to 2 classes.\n",
      "7/7 [==============================] - 31s 4s/step - loss: 18.1792 - accuracy: 0.5000\n",
      "[2023-10-17 17:34:49,584: INFO: common: json file saved at: scores.json]\n"
     ]
    }
   ],
   "source": [
    "try:\n",
    "  config_manmager=ConfigurationManager()\n",
    "  evaluation_config=config_manmager.get_evaluation_config()\n",
    "  evaluation=Evaluation(evaluation_config)\n",
    "  evaluation.evaluation()\n",
    "  evaluation.save_model_evaluation_score()\n",
    "except Exception as e:\n",
    "  raise e"
   ]
  },
  {
   "cell_type": "code",
   "execution_count": null,
   "metadata": {},
   "outputs": [],
   "source": []
  },
  {
   "cell_type": "code",
   "execution_count": null,
   "metadata": {},
   "outputs": [],
   "source": []
  },
  {
   "cell_type": "code",
   "execution_count": null,
   "metadata": {},
   "outputs": [],
   "source": []
  },
  {
   "cell_type": "code",
   "execution_count": null,
   "metadata": {},
   "outputs": [],
   "source": []
  },
  {
   "cell_type": "code",
   "execution_count": null,
   "metadata": {},
   "outputs": [],
   "source": []
  },
  {
   "cell_type": "code",
   "execution_count": 21,
   "metadata": {},
   "outputs": [
    {
     "name": "stdout",
     "output_type": "stream",
     "text": [
      "matt 23 1.8 70.0\n",
      "li 89 90 68\n"
     ]
    }
   ],
   "source": [
    "def my_function(name, age, height, weight):\n",
    "  print(name, age, height, weight)\n",
    "  \n",
    "adict=dict(\n",
    "  name=\"matt\",\n",
    "  age=23,\n",
    "  height=1.80,\n",
    "  weight=70.00\n",
    ")\n",
    "\n",
    "  \n",
    "my_function(**adict)\n",
    "my_function(name=\"li\", age=89, height=90, weight=68)"
   ]
  }
 ],
 "metadata": {
  "kernelspec": {
   "display_name": "chicken",
   "language": "python",
   "name": "python3"
  },
  "language_info": {
   "codemirror_mode": {
    "name": "ipython",
    "version": 3
   },
   "file_extension": ".py",
   "mimetype": "text/x-python",
   "name": "python",
   "nbconvert_exporter": "python",
   "pygments_lexer": "ipython3",
   "version": "3.8.18"
  }
 },
 "nbformat": 4,
 "nbformat_minor": 2
}
