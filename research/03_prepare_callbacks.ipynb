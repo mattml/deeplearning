{
 "cells": [
  {
   "cell_type": "code",
   "execution_count": 116,
   "metadata": {},
   "outputs": [],
   "source": [
    "import os"
   ]
  },
  {
   "cell_type": "code",
   "execution_count": 117,
   "metadata": {},
   "outputs": [
    {
     "data": {
      "text/plain": [
       "'/Users/matt/Documents/deeplearning'"
      ]
     },
     "execution_count": 117,
     "metadata": {},
     "output_type": "execute_result"
    }
   ],
   "source": [
    "%pwd\n",
    "os.chdir('/Users/matt/Documents/deeplearning/')\n",
    "%pwd"
   ]
  },
  {
   "cell_type": "code",
   "execution_count": 118,
   "metadata": {},
   "outputs": [],
   "source": [
    "from dataclasses import dataclass\n",
    "from pathlib import Path\n",
    "\n",
    "@dataclass(frozen=True)\n",
    "class PrepareCallbacksConfig:\n",
    "  root_dir: str\n",
    "  tensorboard_root_log_dir: str\n",
    "  checkpoint_model_filepath: str"
   ]
  },
  {
   "cell_type": "code",
   "execution_count": 119,
   "metadata": {},
   "outputs": [],
   "source": [
    "from cnnClassifier.constants import *\n",
    "from cnnClassifier.utils.common import read_yaml,create_directories"
   ]
  },
  {
   "cell_type": "code",
   "execution_count": 120,
   "metadata": {},
   "outputs": [],
   "source": [
    "\n",
    "\n",
    "class ConfigurationManager:\n",
    "  def __init__(self,config_filepath=CONFIG_FILE_PATH,params_filepath=PARAMS_FILE_PATH):\n",
    "    self.config = read_yaml(config_filepath)\n",
    "    self.params = read_yaml(params_filepath)\n",
    "    create_directories([self.config.artifacts_root])\n",
    "    \n",
    "  def get_prepare_callbacks_config(self)->PrepareCallbacksConfig:\n",
    "    \n",
    "    config=self.config.prepare_callbacks\n",
    "    checkpoint_model_dir=os.path.dirname(config.checkpoint_model_filepath)\n",
    "    \n",
    "    create_directories([\n",
    "      checkpoint_model_dir,\n",
    "      config.tensorboard_root_log_dir\n",
    "    ])\n",
    "    \n",
    "    preare_callbacks_config=PrepareCallbacksConfig(\n",
    "      root_dir=config.root_dir,\n",
    "      checkpoint_model_filepath=config.checkpoint_model_filepath,\n",
    "      tensorboard_root_log_dir=config.tensorboard_root_log_dir\n",
    "    )\n",
    "    \n",
    "    return preare_callbacks_config"
   ]
  },
  {
   "cell_type": "code",
   "execution_count": 121,
   "metadata": {},
   "outputs": [],
   "source": [
    "import os\n",
    "import zipfile\n",
    "import tensorflow as tf\n",
    "from pathlib import Path\n",
    "import time"
   ]
  },
  {
   "cell_type": "code",
   "execution_count": 128,
   "metadata": {},
   "outputs": [],
   "source": [
    "class PrepareCallbacks:\n",
    "  def __init__(self,config:PrepareCallbacksConfig):\n",
    "    self.config = config\n",
    "    \n",
    "  @property\n",
    "  def _create_tb_callbacks(self):\n",
    "    timestamp = time.strftime(\"%Y-%m-%d-%H-%M-%S\")\n",
    "    tb_running_log_dir =os.path.join(\n",
    "      self.config.tensorboard_root_log_dir,\n",
    "      f\"tb_logs_at_{timestamp}\"      \n",
    "    )\n",
    "    return tf.keras.callbacks.TensorBoard(log_dir=tb_running_log_dir)\n",
    "  \n",
    "  @property\n",
    "  def _create_checkpoint_callbacks(self):\n",
    "    checkpoint_callbacks=tf.keras.callbacks.ModelCheckpoint(\n",
    "      filepath=self.config.checkpoint_model_filepath,\n",
    "      save_best_only=True)\n",
    "    return checkpoint_callbacks\n",
    "    \n",
    "  def get_tb_ckpt_callbacks(self):\n",
    "    return [\n",
    "      self._create_tb_callbacks, \n",
    "      self._create_checkpoint_callbacks\n",
    "      ]\n",
    "                                    "
   ]
  },
  {
   "cell_type": "code",
   "execution_count": 129,
   "metadata": {},
   "outputs": [
    {
     "name": "stdout",
     "output_type": "stream",
     "text": [
      "[2023-10-17 00:29:51,324: INFO: common: yaml file: config/config.yaml loaded successfully]\n",
      "[2023-10-17 00:29:51,333: INFO: common: yaml file: params.yaml loaded successfully]\n",
      "[2023-10-17 00:29:51,348: INFO: common: created directory at: artifacts]\n",
      "[2023-10-17 00:29:51,351: INFO: common: created directory at: artifacts/prepare_callbacks/checkpoint_dir]\n",
      "[2023-10-17 00:29:51,358: INFO: common: created directory at: artifacts/prepare_callbacks/tensorboard_log_dir]\n"
     ]
    }
   ],
   "source": [
    "try:\n",
    "  config_manager=ConfigurationManager()\n",
    "  prepare_callbacks_config= config_manager.get_prepare_callbacks_config()\n",
    "  prepare_callbacks=PrepareCallbacks(config=prepare_callbacks_config)\n",
    "  callbacks_list=prepare_callbacks.get_tb_ckpt_callbacks()\n",
    "except Exception as e: \n",
    "  raise e"
   ]
  }
 ],
 "metadata": {
  "kernelspec": {
   "display_name": "chicken",
   "language": "python",
   "name": "python3"
  },
  "language_info": {
   "codemirror_mode": {
    "name": "ipython",
    "version": 3
   },
   "file_extension": ".py",
   "mimetype": "text/x-python",
   "name": "python",
   "nbconvert_exporter": "python",
   "pygments_lexer": "ipython3",
   "version": "3.8.18"
  }
 },
 "nbformat": 4,
 "nbformat_minor": 2
}
